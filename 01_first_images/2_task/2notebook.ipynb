{
 "cells": [
  {
   "cell_type": "markdown",
   "id": "2db64960-7eaa-42f2-b3c9-d0486d52e26d",
   "metadata": {},
   "source": [
    "# Задача №2 - Пробки в городе\n",
    "\n",
    "Требуется написать программу, которая на вход принимает картинку, на которой схематически изображена машинка на дороге с полосами и препятствия на полосах. Соответствующие объекты обозначены цветами, которые сохраняются на всех изображениях.\n",
    "\n",
    "Результатом работы программы является номер полосы, на которую нужно перестроиться или сообщение о том, что перестраиваться не нужно.\n",
    "\n",
    "Примечание: номер дороги считается слева направо, отсчет начинается с нуля."
   ]
  },
  {
   "cell_type": "code",
   "execution_count": 1,
   "id": "e757ffe2-6641-46ba-a92f-89be5f86fbc9",
   "metadata": {},
   "outputs": [],
   "source": [
    "# импорт модулей\n",
    "import cv2\n",
    "import sys\n",
    "\n",
    "import matplotlib.pyplot as plt\n",
    "import numpy as np"
   ]
  },
  {
   "cell_type": "markdown",
   "id": "cd0dc0e6-0952-45b1-ab08-554f045f30dc",
   "metadata": {},
   "source": [
    "## Функция для отрисовки изображения\n",
    "Используем заранее написанную функцию plot_one_image для отображения картинок."
   ]
  },
  {
   "cell_type": "code",
   "execution_count": 2,
   "id": "e41a18b9-8357-4e46-adb9-6b183d60b6bd",
   "metadata": {},
   "outputs": [],
   "source": [
    "def plot_one_image(image: np.ndarray, title: str) -> None:\n",
    "    \"\"\"\n",
    "    Отобразить изображение с помощью matplotlib.\n",
    "    Вспомогательная функция\n",
    "\n",
    "    :param image: изображение для отображения\n",
    "    :param title: заголовок для изображения\n",
    "    :return: None\n",
    "    \"\"\"\n",
    "    fig, ax = plt.subplots(1, 1, figsize=(4, 3))\n",
    "\n",
    "    plt.title(title)\n",
    "\n",
    "    image = cv2.cvtColor(image, cv2.COLOR_BGR2RGB)\n",
    "    \n",
    "    ax.imshow(image, cmap='gray')\n",
    "    ax.axis('off')\n",
    "    plt.show()"
   ]
  },
  {
   "cell_type": "markdown",
   "id": "28955d52-ca85-47ea-a813-db4ce99c5751",
   "metadata": {},
   "source": [
    "## Решение\n",
    "\n",
    "Загрузим первое изображение и преобразуем его в цветовое пространство HSV, что обычно лучше подходит для выделения цветов."
   ]
  },
  {
   "cell_type": "code",
   "execution_count": 3,
   "id": "b6ab212c-a038-406f-a746-ea2f0722fb33",
   "metadata": {},
   "outputs": [
    {
     "data": {
      "image/png": "[encoded data removed]",
      "text/plain": [
       "<Figure size 400x300 with 1 Axes>"
      ]
     },
     "metadata": {},
     "output_type": "display_data"
    }
   ],
   "source": [
    "path = r'images//image_00.jpg'\n",
    "\n",
    "img = cv2.imread(cv2.samples.findFile(path))\n",
    "\n",
    "if img is None:\n",
    "    sys.exit(\"Could not read the image.\")\n",
    "\n",
    "plot_one_image(image=img, title=\"OG road image (HSV)\")\n",
    "\n",
    "hsv = cv2.cvtColor(img, cv2.COLOR_BGR2HSV)"
   ]
  },
  {
   "cell_type": "markdown",
   "id": "ddc09140-8ddf-435b-91c0-7e0b3ff69f00",
   "metadata": {},
   "source": [
    "Найдём на загруженном изображении автомобиль (всегда синего цвета) и препятствия на его пути (всегда красного цвета). Для этого создадим маски для автомобиля и препятствий, установив пороги для синего и красного."
   ]
  },
  {
   "cell_type": "code",
   "execution_count": 4,
   "id": "46524e3c-efe4-437e-a8a4-5f8c25b89026",
   "metadata": {},
   "outputs": [],
   "source": [
    "red_lower = np.array([0, 100, 100], np.uint8)\n",
    "red_upper = np.array([10, 255, 255], np.uint8)\n",
    "obstacle_mask = cv2.inRange(hsv, red_lower, red_upper)\n",
    "\n",
    "blue_lower = np.array([110, 50, 50], np.uint8)\n",
    "blue_upper = np.array([130, 255, 255], np.uint8)\n",
    "car_mask = cv2.inRange(hsv, blue_lower, blue_upper)"
   ]
  },
  {
   "cell_type": "markdown",
   "id": "f494dd5b-45cf-4bdc-aac3-dac017bcdded",
   "metadata": {},
   "source": [
    "Найдём их контуры и отобразим наглядно на отдельном изображении: залитая чёрным картинка с синими и красными контурами машины и препятствий. "
   ]
  },
  {
   "cell_type": "code",
   "execution_count": 5,
   "id": "e41ff36f-c233-499a-8a0d-8db729a275f9",
   "metadata": {},
   "outputs": [
    {
     "data": {
      "image/png": "[encoded data removed]",
      "text/plain": [
       "<Figure size 400x300 with 1 Axes>"
      ]
     },
     "metadata": {},
     "output_type": "display_data"
    }
   ],
   "source": [
    "obstacle_contours, _ = cv2.findContours(obstacle_mask, cv2.RETR_EXTERNAL, cv2.CHAIN_APPROX_SIMPLE)\n",
    "found_contours = np.zeros(img.shape, np.uint8)\n",
    "cv2.drawContours(found_contours, obstacle_contours, -1, (0, 0, 255), 2)\n",
    "\n",
    "car_contour, _ = cv2.findContours(car_mask, cv2.RETR_EXTERNAL, cv2.CHAIN_APPROX_NONE)\n",
    "cv2.drawContours(found_contours, car_contour, -1, (255, 0, 0), 2)\n",
    "\n",
    "plot_one_image(image=found_contours, title=\"Found contours\")"
   ]
  },
  {
   "cell_type": "markdown",
   "id": "3cf0f640-2397-4ace-9ec6-cfaadcf64337",
   "metadata": {},
   "source": [
    "Определим количество полос. Известно, что все полосы, кроме одной, перекрыты препятствиями. Поэтому мы можем посчитать количество полос, посчитав количество препятствий и прибавив единицу (чтобы учесть свободную от препятствий дорогу).\n",
    "\n",
    "Посчитаем также ширину полосы - вычисляется как ширина изображения, делённая на количество полос."
   ]
  },
  {
   "cell_type": "code",
   "execution_count": 6,
   "id": "567b7d19-fa26-4a4d-8fe6-cf96a84ef6e7",
   "metadata": {},
   "outputs": [
    {
     "name": "stdout",
     "output_type": "stream",
     "text": [
      "Всего полос на картинке: 5\n"
     ]
    }
   ],
   "source": [
    "lanes_num = 0\n",
    "for obstacle in obstacle_contours:\n",
    "    lanes_num += 1\n",
    "\n",
    "lanes_num += 1\n",
    "print(f\"Всего полос на картинке: {lanes_num}\")\n",
    "\n",
    "lane_width = img.shape[1] // lanes_num"
   ]
  },
  {
   "cell_type": "markdown",
   "id": "c270425a-0067-4e18-8b92-97a0181d68be",
   "metadata": {},
   "source": [
    "Теперь определим полосу автомобиля и наличие препятствий на полосах. \n",
    "\n",
    "Ранее мы вычислили ширину полосы. Теперь можем вычислить центр автомобиля, тем самым вычислив, на какой полосе он находится.\n",
    "\n",
    "Также мы вычисляем, на каких полосах есть препятствие. Сначала мы считаем, что препятствий на полосах нет вовсе, а затем проверяем, как прямоугольники по ширине соотносятся с полосами (чью ширину мы высчитали ранее).\n",
    "\n",
    "Каждая полоса с препятствием окажется в массиве проверенных полос столько раз, сколько будет циклов."
   ]
  },
  {
   "cell_type": "code",
   "execution_count": 7,
   "id": "e7a81f50-5010-44d1-9e89-4e18061cb41c",
   "metadata": {},
   "outputs": [],
   "source": [
    "car_x = int(np.mean([c[0][0] for c in car_contour[0]]))\n",
    "car_lane = car_x // lane_width\n",
    "\n",
    "checked_lanes = []\n",
    "lane_obstacles = [False] * lanes_num\n",
    "for c in obstacle_contours:\n",
    "    x, _, w, _ = cv2.boundingRect(c)\n",
    "    obstacle_lane = x // lane_width\n",
    "    if (obstacle_lane * lane_width) <= x <= ((obstacle_lane + 1) * lane_width) - w:\n",
    "        lane_obstacles[obstacle_lane] = True\n",
    "\n",
    "    for i in range(lanes_num):\n",
    "        if not lane_obstacles[i]:\n",
    "            if i != car_lane:\n",
    "                checked_lanes.append(i)"
   ]
  },
  {
   "cell_type": "markdown",
   "id": "8ba42d80-10e0-43d3-b416-1bee3abcc6d9",
   "metadata": {},
   "source": [
    "Последняя проверенная полоса - это и есть искомая, т.е. та, на которой нет препятствий (полосы считаются слева направо, начиная с 0)."
   ]
  },
  {
   "cell_type": "code",
   "execution_count": 8,
   "id": "9ecdda05-f619-4c19-b6d3-182ca9c150ad",
   "metadata": {},
   "outputs": [
    {
     "name": "stdout",
     "output_type": "stream",
     "text": [
      "Нужно перестроиться на полосу номер 1.\n"
     ]
    }
   ],
   "source": [
    "if checked_lanes[-1] != car_lane:\n",
    "    print(f'Нужно перестроиться на полосу номер {checked_lanes[-1]}.')\n",
    "else:\n",
    "    print('Перестраиваться не нужно')"
   ]
  },
  {
   "cell_type": "markdown",
   "id": "561d3fca-d076-4aa6-a534-007f48c0e06a",
   "metadata": {},
   "source": [
    "## Найденные полосы для перестройки\n",
    "\n",
    "Оформим весь вышенаписанный код в виде функции, чтобы применить его к оставшимся картинкам с полосами и препятствиями."
   ]
  },
  {
   "cell_type": "code",
   "execution_count": 9,
   "id": "c4b7f014-d645-4130-9f45-ca520d4909cf",
   "metadata": {},
   "outputs": [],
   "source": [
    "def find_road_number(path_to_image: str):\n",
    "    \"\"\"\n",
    "    Поиск номера полосы, на которую нужно перестроиться\n",
    "\n",
    "    :param path_to_image: путь к картинке с автомобилем\n",
    "    :return: строка с результатом\n",
    "    \"\"\"\n",
    "\n",
    "    img = cv2.imread(cv2.samples.findFile(path))\n",
    "\n",
    "    if img is None:\n",
    "        sys.exit(\"Could not read the image.\")\n",
    "\n",
    "    hsv = cv2.cvtColor(img, cv2.COLOR_BGR2HSV)\n",
    "\n",
    "    blue_lower = np.array([110, 50, 50], np.uint8)\n",
    "    blue_upper = np.array([130, 255, 255], np.uint8)\n",
    "    car_mask = cv2.inRange(hsv, blue_lower, blue_upper)\n",
    "\n",
    "    red_lower = np.array([0, 100, 100], np.uint8)\n",
    "    red_upper = np.array([10, 255, 255], np.uint8)\n",
    "    obstacle_mask = cv2.inRange(hsv, red_lower, red_upper)\n",
    "\n",
    "    car_contour, _ = cv2.findContours(car_mask, cv2.RETR_EXTERNAL, cv2.CHAIN_APPROX_NONE)\n",
    "    found_contours = np.zeros(img.shape, np.uint8)\n",
    "    cv2.drawContours(found_contours, car_contour, -1, (255, 0, 0), 2)\n",
    "\n",
    "    obstacle_contours, _ = cv2.findContours(obstacle_mask, cv2.RETR_EXTERNAL, cv2.CHAIN_APPROX_SIMPLE)\n",
    "    cv2.drawContours(found_contours, obstacle_contours, -1, (0, 0, 255), 2)\n",
    "\n",
    "    lanes_num = 0\n",
    "    for obstacle in obstacle_contours:\n",
    "        lanes_num += 1\n",
    "\n",
    "    lanes_num += 1\n",
    "\n",
    "    lane_width = img.shape[1] // lanes_num\n",
    "\n",
    "    car_x = int(np.mean([c[0][0] for c in car_contour[0]]))\n",
    "    car_lane = car_x // lane_width\n",
    "\n",
    "    checked_lanes = []\n",
    "    lane_obstacles = [False] * lanes_num\n",
    "    for c in obstacle_contours:\n",
    "        x, _, w, _ = cv2.boundingRect(c)\n",
    "        obstacle_lane = x // lane_width\n",
    "        if (obstacle_lane * lane_width) <= x <= ((obstacle_lane + 1) * lane_width) - w:\n",
    "            lane_obstacles[obstacle_lane] = True\n",
    "\n",
    "        for i in range(lanes_num):\n",
    "            if not lane_obstacles[i]:\n",
    "                if i != car_lane:\n",
    "                    checked_lanes.append(i)\n",
    "\n",
    "    if checked_lanes[-1] != car_lane:\n",
    "        return f'Нужно перестроиться на полосу номер {checked_lanes[-1]}'\n",
    "    else:\n",
    "        return 'Перестраиваться не нужно'"
   ]
  },
  {
   "cell_type": "markdown",
   "id": "42a3a747-669c-4ec8-b865-e34635e7aed8",
   "metadata": {},
   "source": [
    "Применим написанную функцию к оставшимся двум картинкам. Отобразим сначала саму картинку, зачем - на какую полосу надо перестраиваться."
   ]
  },
  {
   "cell_type": "code",
   "execution_count": 10,
   "id": "12202b23-5b52-4a60-9b89-44d5dee1d6b0",
   "metadata": {},
   "outputs": [
    {
     "data": {
      "image/png": "[encoded data removed]",
      "text/plain": [
       "<Figure size 400x300 with 1 Axes>"
      ]
     },
     "metadata": {},
     "output_type": "display_data"
    },
    {
     "name": "stdout",
     "output_type": "stream",
     "text": [
      "Нужно перестроиться на полосу номер 3\n"
     ]
    }
   ],
   "source": [
    "path = r'images//image_01.jpg'\n",
    "\n",
    "img = cv2.imread(cv2.samples.findFile(path))\n",
    "\n",
    "if img is None:\n",
    "    sys.exit(\"Could not read the image.\")\n",
    "\n",
    "plot_one_image(image=img, title=\"image_01.jpg\")\n",
    "\n",
    "print(find_road_number(path))"
   ]
  },
  {
   "cell_type": "code",
   "execution_count": 11,
   "id": "9d2fd579-5eaf-40d4-ba23-221cb85e91b2",
   "metadata": {},
   "outputs": [
    {
     "data": {
      "image/png": "[encoded data removed]",
      "text/plain": [
       "<Figure size 400x300 with 1 Axes>"
      ]
     },
     "metadata": {},
     "output_type": "display_data"
    },
    {
     "name": "stdout",
     "output_type": "stream",
     "text": [
      "Нужно перестроиться на полосу номер 0\n"
     ]
    }
   ],
   "source": [
    "path = r'images//image_02.jpg'\n",
    "\n",
    "img = cv2.imread(cv2.samples.findFile(path))\n",
    "\n",
    "if img is None:\n",
    "    sys.exit(\"Could not read the image.\")\n",
    "\n",
    "plot_one_image(image=img, title=\"image_02.jpg\")\n",
    "\n",
    "print(find_road_number(path))"
   ]
  }
 ],
 "metadata": {
  "kernelspec": {
   "display_name": "Python 3 (ipykernel)",
   "language": "python",
   "name": "python3"
  },
  "language_info": {
   "codemirror_mode": {
    "name": "ipython",
    "version": 3
   },
   "file_extension": ".py",
   "mimetype": "text/x-python",
   "name": "python",
   "nbconvert_exporter": "python",
   "pygments_lexer": "ipython3",
   "version": "3.12.7"
  }
 },
 "nbformat": 4,
 "nbformat_minor": 5
}
